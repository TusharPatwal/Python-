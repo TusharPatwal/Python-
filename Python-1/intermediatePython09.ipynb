{
 "cells": [
  {
   "cell_type": "code",
   "execution_count": 4,
   "metadata": {},
   "outputs": [
    {
     "name": "stdout",
     "output_type": "stream",
     "text": [
      "division by zero\n"
     ]
    }
   ],
   "source": [
    "# errors and exceptions\n",
    "try:\n",
    "    a = 5/0\n",
    "except: \n",
    "    print('division by zero')\n",
    "    "
   ]
  },
  {
   "cell_type": "code",
   "execution_count": 9,
   "metadata": {},
   "outputs": [
    {
     "name": "stdout",
     "output_type": "stream",
     "text": [
      "name 'b' is not defined\n"
     ]
    }
   ],
   "source": [
    "try:\n",
    "    a = b\n",
    "except Exception as e:\n",
    "    print(e) "
   ]
  },
  {
   "cell_type": "code",
   "execution_count": 13,
   "metadata": {},
   "outputs": [
    {
     "name": "stdout",
     "output_type": "stream",
     "text": [
      "unsupported operand type(s) for +: 'float' and 'str'\n"
     ]
    }
   ],
   "source": [
    "try:\n",
    "    a = 5/2\n",
    "    b = a+'10'\n",
    "except ZeroDivisionError as z:\n",
    "    print(z)\n",
    "except TypeError as t:\n",
    "    print(t)"
   ]
  },
  {
   "cell_type": "code",
   "execution_count": 16,
   "metadata": {},
   "outputs": [
    {
     "name": "stdout",
     "output_type": "stream",
     "text": [
      "Every thing is fine\n"
     ]
    }
   ],
   "source": [
    "try:\n",
    "    a = 8/1\n",
    "    b = a+4\n",
    "except Exception as e:\n",
    "    print(e)\n",
    "else:\n",
    "    print('Every thing is fine')"
   ]
  },
  {
   "cell_type": "code",
   "execution_count": 18,
   "metadata": {},
   "outputs": [
    {
     "name": "stdout",
     "output_type": "stream",
     "text": [
      "Every thing is fine\n",
      "Cleaning up...\n"
     ]
    }
   ],
   "source": [
    "try:\n",
    "    a = 8/1\n",
    "    b = a+4\n",
    "except Exception as e:\n",
    "    print(e)\n",
    "else:\n",
    "    print('Every thing is fine')\n",
    "finally:\n",
    "    print(\"Cleaning up...\")"
   ]
  },
  {
   "cell_type": "code",
   "execution_count": 21,
   "metadata": {},
   "outputs": [
    {
     "name": "stdout",
     "output_type": "stream",
     "text": [
      "name 's' is not defined\n",
      "Cleaning up...\n"
     ]
    }
   ],
   "source": [
    "try:\n",
    "    a = 5/s\n",
    "except Exception as e:\n",
    "    print(e)\n",
    "finally:\n",
    "    print('Cleaning up...')"
   ]
  }
 ],
 "metadata": {
  "kernelspec": {
   "display_name": "Python 3",
   "language": "python",
   "name": "python3"
  },
  "language_info": {
   "codemirror_mode": {
    "name": "ipython",
    "version": 3
   },
   "file_extension": ".py",
   "mimetype": "text/x-python",
   "name": "python",
   "nbconvert_exporter": "python",
   "pygments_lexer": "ipython3",
   "version": "3.10.1"
  },
  "orig_nbformat": 4,
  "vscode": {
   "interpreter": {
    "hash": "369f2c481f4da34e4445cda3fffd2e751bd1c4d706f27375911949ba6bb62e1c"
   }
  }
 },
 "nbformat": 4,
 "nbformat_minor": 2
}
