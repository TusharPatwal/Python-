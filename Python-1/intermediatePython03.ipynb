{
 "cells": [
  {
   "cell_type": "code",
   "execution_count": 25,
   "metadata": {},
   "outputs": [
    {
     "name": "stdout",
     "output_type": "stream",
     "text": [
      "{'name': 'tushar', 'age': 20, 'city': 'delhi'}\n",
      "{'name': 'tushar', 'age': 20, 'city': 'delhi'}\n",
      "tushar\n",
      "{'name': 'tushar', 'age': 20, 'city': 'delhi', 'hobby': 'investing'}\n",
      "{'name': 'tushar', 'age': 20, 'city': 'delhi', 'hobby': 'reading'}\n"
     ]
    }
   ],
   "source": [
    "# Dictionary \n",
    "d = {'name':'tushar','age':20,'city':'delhi'}\n",
    "print(d)\n",
    "\n",
    "\n",
    "# by this way you don't have to put keys in quotes\n",
    "d1 = dict(name='tushar',age=20,city='delhi')\n",
    "print(d1)\n",
    "\n",
    "# accessing the value\n",
    "print(d1['name'])\n",
    "\n",
    "# adding key and value in dictionary\n",
    "d1['hobby'] = 'investing'\n",
    "print(d1)\n",
    "\n",
    "# by passing same key with another value you can overwrite the value\n",
    "d1['hobby'] = 'reading'\n",
    "print(d1)"
   ]
  },
  {
   "cell_type": "code",
   "execution_count": 26,
   "metadata": {},
   "outputs": [
    {
     "name": "stdout",
     "output_type": "stream",
     "text": [
      "{'name': 'tushar', 'city': 'delhi', 'hobby': 'reading'}\n",
      "{'city': 'delhi', 'hobby': 'reading'}\n"
     ]
    }
   ],
   "source": [
    "# to delete an item in dictionary\n",
    "del d1['age']\n",
    "print(d1)\n",
    "\n",
    "# second method to delete an item\n",
    "d1.pop(\"name\")\n",
    "print(d1)"
   ]
  },
  {
   "cell_type": "code",
   "execution_count": 27,
   "metadata": {},
   "outputs": [
    {
     "name": "stdout",
     "output_type": "stream",
     "text": [
      "{'city': 'delhi'}\n"
     ]
    }
   ],
   "source": [
    "# to delete the last item in the dictionary\n",
    "d1.popitem()\n",
    "print(d1)"
   ]
  },
  {
   "cell_type": "code",
   "execution_count": 29,
   "metadata": {},
   "outputs": [
    {
     "name": "stdout",
     "output_type": "stream",
     "text": [
      "tushar\n"
     ]
    }
   ],
   "source": [
    "# to chech weather key is present in dictionary \n",
    "if 'name' in d:\n",
    "    print(d['name'])"
   ]
  },
  {
   "cell_type": "code",
   "execution_count": 33,
   "metadata": {},
   "outputs": [
    {
     "name": "stdout",
     "output_type": "stream",
     "text": [
      "20\n",
      "not found\n"
     ]
    }
   ],
   "source": [
    "# to chech weather key is present in dictionary (by try & except)\n",
    "try:\n",
    "    print(d['age'])\n",
    "except:\n",
    "    print(\"not found\")\n",
    "    \n",
    "try:\n",
    "    print(d['lname'])\n",
    "except:\n",
    "    print(\"not found\")"
   ]
  },
  {
   "cell_type": "code",
   "execution_count": 48,
   "metadata": {},
   "outputs": [
    {
     "name": "stdout",
     "output_type": "stream",
     "text": [
      "name\n",
      "age\n",
      "city\n",
      "lname\n",
      "name\n",
      "age\n",
      "city\n",
      "lname\n",
      "tushar\n",
      "20\n",
      "delhi\n",
      "patwal\n",
      "('name', 'tushar')\n",
      "('age', 20)\n",
      "('city', 'delhi')\n",
      "('lname', 'patwal')\n",
      "name tushar\n",
      "age 20\n",
      "city delhi\n",
      "lname patwal\n"
     ]
    }
   ],
   "source": [
    "# iterating a dictionary by keys\n",
    "for key in d:\n",
    "    print(key)\n",
    "    \n",
    "# 2nd method\n",
    "for i in d.keys():\n",
    "    print(i)\n",
    "    \n",
    "# iterating a dictionary by values\n",
    "for j in d.values():\n",
    "    print(j)\n",
    "    \n",
    "# iterating a dictionary by items\n",
    "for i in d.items():\n",
    "    print(i)\n",
    "    \n",
    "# 2nd method\n",
    "for i,j in d.items():\n",
    "    print(i,j)"
   ]
  },
  {
   "cell_type": "code",
   "execution_count": 50,
   "metadata": {},
   "outputs": [
    {
     "name": "stdout",
     "output_type": "stream",
     "text": [
      "{'name': 'tushar', 'age': 20, 'city': 'delhi', 'lname': 'patwal'}\n",
      "{'name': 'tushar', 'age': 20, 'city': 'delhi', 'lname': 'patwal'}\n",
      "{'name': 'tushar', 'age': 20, 'city': 'delhi', 'lname': 'patwal'}\n",
      "{'name': 'tushar', 'age': 20, 'city': 'delhi', 'lname': 'patwal'}\n"
     ]
    }
   ],
   "source": [
    "# shalow copy in dict\n",
    "dCopy = d\n",
    "print(d)\n",
    "print(dCopy)\n",
    "dCopy['lname'] = 'patwal'\n",
    "print(d)\n",
    "print(dCopy)\n",
    "\n"
   ]
  },
  {
   "cell_type": "code",
   "execution_count": 55,
   "metadata": {},
   "outputs": [
    {
     "name": "stdout",
     "output_type": "stream",
     "text": [
      "{1: 2, 2: 3, 3: 4, 4: 5}\n",
      "{1: 2, 2: 3, 3: 4, 4: 5}\n",
      "{1: 2, 2: 3, 3: 4, 4: 5}\n",
      "{1: 2, 2: 3, 3: 4, 4: 5, 'mname': 'singh'}\n"
     ]
    }
   ],
   "source": [
    "# deep copy in dict\n",
    "d2 = {1:2,2:3,3:4,4:5}\n",
    "dCopy2 =  d2.copy()\n",
    "print(d2)\n",
    "print(dCopy2)\n",
    "dCopy2['mname'] = 'singh'\n",
    "print(d2)\n",
    "print(dCopy2)"
   ]
  },
  {
   "cell_type": "code",
   "execution_count": 57,
   "metadata": {},
   "outputs": [
    {
     "name": "stdout",
     "output_type": "stream",
     "text": [
      "{'name': 'tushar', 'age': 20, 'city': 'delhi', 'lame': 'patwal'}\n"
     ]
    }
   ],
   "source": [
    "# update dict\n",
    "d4 = {'name':'tushar','age':20,'city':'delhi'}\n",
    "d3 = dict(lame='patwal')\n",
    "\n",
    "d4.update(d3)\n",
    "print(d4)"
   ]
  }
 ],
 "metadata": {
  "kernelspec": {
   "display_name": "Python 3",
   "language": "python",
   "name": "python3"
  },
  "language_info": {
   "codemirror_mode": {
    "name": "ipython",
    "version": 3
   },
   "file_extension": ".py",
   "mimetype": "text/x-python",
   "name": "python",
   "nbconvert_exporter": "python",
   "pygments_lexer": "ipython3",
   "version": "3.10.1"
  },
  "orig_nbformat": 4,
  "vscode": {
   "interpreter": {
    "hash": "369f2c481f4da34e4445cda3fffd2e751bd1c4d706f27375911949ba6bb62e1c"
   }
  }
 },
 "nbformat": 4,
 "nbformat_minor": 2
}
