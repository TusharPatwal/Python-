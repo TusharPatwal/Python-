{
 "cells": [
  {
   "cell_type": "code",
   "execution_count": 2,
   "metadata": {},
   "outputs": [
    {
     "name": "stdout",
     "output_type": "stream",
     "text": [
      "5\n"
     ]
    }
   ],
   "source": [
    "# syntax\n",
    "x = lambda param1, param2, param3: param1 + param2 + param2\n",
    "print(x(1,2,3))"
   ]
  },
  {
   "cell_type": "code",
   "execution_count": 8,
   "metadata": {},
   "outputs": [
    {
     "name": "stdout",
     "output_type": "stream",
     "text": [
      "6\n",
      "6\n",
      "6\n"
     ]
    }
   ],
   "source": [
    "# Named function\n",
    "def add_two_nums(a, b, c):\n",
    "    return a + b + c\n",
    "\n",
    "print(add_two_nums(2, 3, 1))  \n",
    "\n",
    "\n",
    "# Lets change the above function to a lambda function\n",
    "addTwoNums = lambda a,b,c: a+b+c\n",
    "\n",
    "# calling lambda function\n",
    "print(addTwoNums(1,2,3))\n",
    "\n",
    "\n",
    "# Self invoking lambda function\n",
    "print((lambda a,b,c: a+b+c)(2,3,1))"
   ]
  },
  {
   "cell_type": "code",
   "execution_count": 11,
   "metadata": {},
   "outputs": [
    {
     "name": "stdout",
     "output_type": "stream",
     "text": [
      "729\n",
      "81\n"
     ]
    }
   ],
   "source": [
    "# few example of lambda function\n",
    "# 1\n",
    "cube = lambda a: a**3\n",
    "print(cube(9))  \n",
    "\n",
    "# 2\n",
    "square = lambda a: a**2\n",
    "print(square(9))"
   ]
  },
  {
   "cell_type": "code",
   "execution_count": 13,
   "metadata": {},
   "outputs": [
    {
     "name": "stdout",
     "output_type": "stream",
     "text": [
      "3.25\n"
     ]
    }
   ],
   "source": [
    "# Multiple variables in lambda function\n",
    "ans = lambda a,b,c,d: a+2-b+3*c/4\n",
    "print(ans(1,2,3,4))"
   ]
  },
  {
   "cell_type": "code",
   "execution_count": 14,
   "metadata": {},
   "outputs": [
    {
     "name": "stdout",
     "output_type": "stream",
     "text": [
      "8\n",
      "32\n"
     ]
    }
   ],
   "source": [
    "# Lambda Function Inside Another Function\n",
    "def power(x):\n",
    "    return lambda n : x ** n\n",
    "\n",
    "cube = power(2)(3)   # function power now need 2 arguments to run, in separate rounded brackets\n",
    "print(cube)          # 8\n",
    "two_power_of_five = power(2)(5) \n",
    "print(two_power_of_five)  # 32"
   ]
  }
 ],
 "metadata": {
  "kernelspec": {
   "display_name": "Python 3",
   "language": "python",
   "name": "python3"
  },
  "language_info": {
   "codemirror_mode": {
    "name": "ipython",
    "version": 3
   },
   "file_extension": ".py",
   "mimetype": "text/x-python",
   "name": "python",
   "nbconvert_exporter": "python",
   "pygments_lexer": "ipython3",
   "version": "3.10.1"
  },
  "orig_nbformat": 4,
  "vscode": {
   "interpreter": {
    "hash": "369f2c481f4da34e4445cda3fffd2e751bd1c4d706f27375911949ba6bb62e1c"
   }
  }
 },
 "nbformat": 4,
 "nbformat_minor": 2
}
