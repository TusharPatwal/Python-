{
 "cells": [
  {
   "cell_type": "code",
   "execution_count": 15,
   "metadata": {},
   "outputs": [
    {
     "name": "stdout",
     "output_type": "stream",
     "text": [
      "1\n",
      "0\n",
      "hdllo World\n",
      "['hello', 'World']\n",
      "h e l l o   W o r l d\n",
      "hello world\n",
      "HELLO WORLD\n",
      "llo World\n",
      "Hello world\n",
      "Hello World\n"
     ]
    }
   ],
   "source": [
    "# strings and functions of strings\n",
    "\n",
    "string = \"hello World\"\n",
    "print(string.count('d'))\n",
    "\n",
    "print(string.find('h'))\n",
    "\n",
    "print(string.replace('e','d'))\n",
    "\n",
    "print(string.split(\" \"))\n",
    "\n",
    "print(\" \".join(string))\n",
    "\n",
    "print(string.lower())\n",
    "\n",
    "print(string.upper())\n",
    "\n",
    "print(string.strip('he'))\n",
    "\n",
    "print(string.capitalize())\n",
    "\n",
    "print(string.title())"
   ]
  }
 ],
 "metadata": {
  "kernelspec": {
   "display_name": "Python 3",
   "language": "python",
   "name": "python3"
  },
  "language_info": {
   "codemirror_mode": {
    "name": "ipython",
    "version": 3
   },
   "file_extension": ".py",
   "mimetype": "text/x-python",
   "name": "python",
   "nbconvert_exporter": "python",
   "pygments_lexer": "ipython3",
   "version": "3.10.1"
  },
  "orig_nbformat": 4,
  "vscode": {
   "interpreter": {
    "hash": "369f2c481f4da34e4445cda3fffd2e751bd1c4d706f27375911949ba6bb62e1c"
   }
  }
 },
 "nbformat": 4,
 "nbformat_minor": 2
}
