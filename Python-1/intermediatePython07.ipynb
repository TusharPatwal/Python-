{
 "cells": [
  {
   "cell_type": "code",
   "execution_count": 3,
   "metadata": {},
   "outputs": [
    {
     "name": "stdout",
     "output_type": "stream",
     "text": [
      "[(1, 4), (1, 5), (1, 6), (2, 4), (2, 5), (2, 6), (3, 4), (3, 5), (3, 6)]\n",
      "[(1, 3, 1, 3), (1, 3, 2, 3), (2, 3, 1, 3), (2, 3, 2, 3)]\n"
     ]
    }
   ],
   "source": [
    "# itertools\n",
    "\n",
    "# 1.products\n",
    "from itertools import product\n",
    "a = [1,2,3]\n",
    "b = [4,5,6]\n",
    "\n",
    "print(list(product(a,b)))\n",
    "\n",
    "c = [1,2]\n",
    "d =[3]\n",
    "print(list(product(c,d,repeat=2)))"
   ]
  },
  {
   "cell_type": "code",
   "execution_count": 7,
   "metadata": {},
   "outputs": [
    {
     "name": "stdout",
     "output_type": "stream",
     "text": [
      "[(1, 2, 4), (1, 4, 2), (2, 1, 4), (2, 4, 1), (4, 1, 2), (4, 2, 1)]\n",
      "[(1, 2), (1, 4), (2, 1), (2, 4), (4, 1), (4, 2)]\n"
     ]
    }
   ],
   "source": [
    "# 2.permutations(all possible odering of list)\n",
    "from itertools import permutations\n",
    "\n",
    "a = [1,2,4]\n",
    "print(list(permutations(a)))\n",
    "\n",
    "print (list(permutations(a,2))) # by passing integer after list a it will become length of list"
   ]
  },
  {
   "cell_type": "code",
   "execution_count": 9,
   "metadata": {},
   "outputs": [
    {
     "name": "stdout",
     "output_type": "stream",
     "text": [
      "[(1, 2), (1, 3), (1, 4), (1, 5), (2, 3), (2, 4), (2, 5), (3, 4), (3, 5), (4, 5)]\n",
      "[(1, 1), (1, 2), (1, 3), (1, 4), (1, 5), (2, 2), (2, 3), (2, 4), (2, 5), (3, 3), (3, 4), (3, 5), (4, 4), (4, 5), (5, 5)]\n"
     ]
    }
   ],
   "source": [
    "# 3.combinations(create all possible combination according to given length)\n",
    "from itertools import combinations\n",
    "\n",
    "a = [1,2,3,4,5]\n",
    "print(list(combinations(a,2)))\n",
    "\n",
    "\n",
    "# 4.combinations_with_replacement(create all possible combination according to given length with itself)\n",
    "from itertools import combinations_with_replacement\n",
    "print(list(combinations_with_replacement(a,2)))"
   ]
  },
  {
   "cell_type": "code",
   "execution_count": 11,
   "metadata": {},
   "outputs": [
    {
     "name": "stdout",
     "output_type": "stream",
     "text": [
      "[1, 2, 3, 4, 5, 6]\n",
      "[1, 3, 6, 10, 15, 21]\n",
      "[1, 2, 6, 24, 120, 720]\n"
     ]
    }
   ],
   "source": [
    "# 5.accumulate()\n",
    "\n",
    "from itertools import accumulate\n",
    "\n",
    "a = [1,2,3,4,5,6]\n",
    "print(a)\n",
    "print(list(accumulate(a)))\n",
    "\n",
    "\n",
    "import operator\n",
    "print(list(accumulate(a,func=operator.mul)))"
   ]
  },
  {
   "cell_type": "code",
   "execution_count": 20,
   "metadata": {},
   "outputs": [
    {
     "name": "stdout",
     "output_type": "stream",
     "text": [
      "True [1, 2]\n",
      "False [3, 4]\n"
     ]
    }
   ],
   "source": [
    "# 6.groupby\n",
    "\n",
    "from itertools import groupby\n",
    "\n",
    "def smaller_than_3(x):\n",
    "    return x<3\n",
    "\n",
    "a = [1,2,3,4]\n",
    "\n",
    "g = groupby(a,key=smaller_than_3)\n",
    "for key,value in g:\n",
    "    print(key, list(value))\n"
   ]
  },
  {
   "cell_type": "code",
   "execution_count": null,
   "metadata": {},
   "outputs": [],
   "source": []
  }
 ],
 "metadata": {
  "kernelspec": {
   "display_name": "Python 3",
   "language": "python",
   "name": "python3"
  },
  "language_info": {
   "codemirror_mode": {
    "name": "ipython",
    "version": 3
   },
   "file_extension": ".py",
   "mimetype": "text/x-python",
   "name": "python",
   "nbconvert_exporter": "python",
   "pygments_lexer": "ipython3",
   "version": "3.10.1"
  },
  "orig_nbformat": 4,
  "vscode": {
   "interpreter": {
    "hash": "369f2c481f4da34e4445cda3fffd2e751bd1c4d706f27375911949ba6bb62e1c"
   }
  }
 },
 "nbformat": 4,
 "nbformat_minor": 2
}
