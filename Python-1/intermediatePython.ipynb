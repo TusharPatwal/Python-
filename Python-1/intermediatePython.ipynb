{
 "cells": [
  {
   "cell_type": "code",
   "execution_count": 1,
   "metadata": {},
   "outputs": [
    {
     "name": "stdout",
     "output_type": "stream",
     "text": [
      "['banana', 'cherry', 'apple']\n"
     ]
    }
   ],
   "source": [
    "# Lists: ordered, mutable, allows duplicate elements\n",
    "lst = [\"banana\", \"cherry\", \"apple\"]\n",
    "print(lst)"
   ]
  },
  {
   "cell_type": "code",
   "execution_count": 2,
   "metadata": {},
   "outputs": [
    {
     "name": "stdout",
     "output_type": "stream",
     "text": [
      "[5, True, 'apple', 'apple']\n",
      "cherry\n"
     ]
    }
   ],
   "source": [
    "lst2 = [5,True,'apple','apple']\n",
    "print(lst2)\n",
    "\n",
    "print(lst[-2])"
   ]
  },
  {
   "cell_type": "code",
   "execution_count": 3,
   "metadata": {},
   "outputs": [
    {
     "name": "stdout",
     "output_type": "stream",
     "text": [
      "5\n",
      "True\n",
      "apple\n",
      "apple\n"
     ]
    }
   ],
   "source": [
    "for i in lst2:\n",
    "    print(i)"
   ]
  },
  {
   "cell_type": "code",
   "execution_count": 4,
   "metadata": {},
   "outputs": [
    {
     "name": "stdout",
     "output_type": "stream",
     "text": [
      "True\n",
      "False\n"
     ]
    }
   ],
   "source": [
    "# check weather the element is in list \n",
    "if 'banana' in lst:\n",
    "    print(\"True\")\n",
    "else:\n",
    "    print(\"False\")\n",
    "    \n",
    "if 'lemon' in lst:\n",
    "    print(\"True\")\n",
    "else:\n",
    "    print(\"False\")"
   ]
  },
  {
   "cell_type": "code",
   "execution_count": 5,
   "metadata": {},
   "outputs": [
    {
     "name": "stdout",
     "output_type": "stream",
     "text": [
      "4\n",
      "['banana', 'cherry', 'apple', 'lemon', 'kiwi']\n"
     ]
    }
   ],
   "source": [
    "# to check how many element you have in the list\n",
    "print(len(lst2))\n",
    "\n",
    "# add element one by one in end of the list\n",
    "lst.append('lemon')\n",
    "lst.append('kiwi')\n",
    "print(lst)\n",
    "\n",
    "# for adding item at specific index\n",
    "lst2.insert(0,'blueberry')\n",
    "\n",
    "lst.append(\"cherry\")"
   ]
  },
  {
   "cell_type": "code",
   "execution_count": 6,
   "metadata": {},
   "outputs": [
    {
     "name": "stdout",
     "output_type": "stream",
     "text": [
      "['banana', 'cherry', 'apple', 'lemon', 'kiwi']\n"
     ]
    }
   ],
   "source": [
    "# to remove element from the back of a list \n",
    "lst.pop()\n",
    "print(lst)"
   ]
  },
  {
   "cell_type": "code",
   "execution_count": 7,
   "metadata": {},
   "outputs": [
    {
     "name": "stdout",
     "output_type": "stream",
     "text": [
      "['banana', 'apple', 'lemon', 'kiwi']\n"
     ]
    }
   ],
   "source": [
    "# to remove a specific element from the list\n",
    "lst.remove(\"cherry\")\n",
    "print(lst)"
   ]
  },
  {
   "cell_type": "code",
   "execution_count": 8,
   "metadata": {},
   "outputs": [
    {
     "name": "stdout",
     "output_type": "stream",
     "text": [
      "[]\n"
     ]
    }
   ],
   "source": [
    "# remove all elements from the list or empty the list\n",
    "lst.clear()\n",
    "print(lst)"
   ]
  },
  {
   "cell_type": "code",
   "execution_count": 9,
   "metadata": {},
   "outputs": [
    {
     "data": {
      "text/plain": [
       "[0, 9, 8, 7, 6, 5, 4, 3, 2, 1]"
      ]
     },
     "execution_count": 9,
     "metadata": {},
     "output_type": "execute_result"
    }
   ],
   "source": [
    "# to reverse a list\n",
    "l = [1,2,3,4,5,6,7,8,9,0]\n",
    "l.reverse()\n",
    "l"
   ]
  },
  {
   "cell_type": "code",
   "execution_count": 10,
   "metadata": {},
   "outputs": [
    {
     "data": {
      "text/plain": [
       "[0, 1, 2, 3, 4, 5, 6, 7, 8, 9]"
      ]
     },
     "execution_count": 10,
     "metadata": {},
     "output_type": "execute_result"
    }
   ],
   "source": [
    "# to sort a list\n",
    "l.sort()\n",
    "l"
   ]
  },
  {
   "cell_type": "code",
   "execution_count": 11,
   "metadata": {},
   "outputs": [
    {
     "name": "stdout",
     "output_type": "stream",
     "text": [
      "[1, 1, 1, 1, 1]\n",
      "[1, 2, 3, 4, 5]\n",
      "[1, 1, 1, 1, 1, 1, 2, 3, 4, 5]\n"
     ]
    }
   ],
   "source": [
    "# adding two list\n",
    "l1 = [1]*5\n",
    "print(l1)\n",
    "l2 = [1,2,3,4,5]\n",
    "print(l2)\n",
    "\n",
    "new = l1+l2\n",
    "print(new)"
   ]
  },
  {
   "cell_type": "code",
   "execution_count": 13,
   "metadata": {},
   "outputs": [
    {
     "name": "stdout",
     "output_type": "stream",
     "text": [
      "[2, 4, 6, 8, 0]\n",
      "[1, 3, 5, 7, 9]\n"
     ]
    }
   ],
   "source": [
    "# list slicing\n",
    "\n",
    "ls = [1,2,3,4,5,6,7,8,9,0]\n",
    "a = ls[1::2] # all even in list\n",
    "print(a)\n",
    "\n",
    "b = ls[::2]\n",
    "print(b) # all odd in list"
   ]
  },
  {
   "cell_type": "code",
   "execution_count": 15,
   "metadata": {},
   "outputs": [
    {
     "name": "stdout",
     "output_type": "stream",
     "text": [
      "[0, 9, 8, 7, 6, 5, 4, 3, 2, 1]\n"
     ]
    }
   ],
   "source": [
    "# reversing a list with silicing \n",
    "print(ls[::-1])"
   ]
  },
  {
   "cell_type": "code",
   "execution_count": 22,
   "metadata": {},
   "outputs": [
    {
     "name": "stdout",
     "output_type": "stream",
     "text": [
      "['apple', 'banana', 'cherry']\n",
      "['apple', 'banana', 'cherry']\n",
      "['apple', 'banana', 'cherry']\n",
      "['apple', 'banana', 'cherry', 'lemon']\n",
      "['apple', 'banana', 'cherry', 'lemon']\n",
      "['apple', 'banana', 'cherry']\n",
      "['apple', 'banana', 'cherry']\n"
     ]
    }
   ],
   "source": [
    "# copying a list \n",
    "# method-1(this method will effect the original copy if elements changed)\n",
    "ls_original = [\"apple\",\"banana\",\"cherry\"]\n",
    "ls_copy1 = ls_original\n",
    "print(ls_copy1)\n",
    "\n",
    "# method-2(same as above)\n",
    "ls_copy2 = list(ls_original)\n",
    "print(ls_copy2)\n",
    "\n",
    "\n",
    "# method-3(this method will not effect the original copy if elements changed)\n",
    "ls_copy3 = ls_original.copy()\n",
    "print(ls_copy3)\n",
    "\n",
    "ls_original.append(\"lemon\")\n",
    "print(ls_original)\n",
    "print(ls_copy1)\n",
    "print(ls_copy2)\n",
    "print(ls_copy3)\n"
   ]
  },
  {
   "cell_type": "code",
   "execution_count": 23,
   "metadata": {},
   "outputs": [
    {
     "name": "stdout",
     "output_type": "stream",
     "text": [
      "[1, 2, 3, 4, 5, 6, 7, 8]\n",
      "[1, 4, 9, 16, 25, 36, 49, 64]\n"
     ]
    }
   ],
   "source": [
    "# list comprihension\n",
    "my_ls = [1,2,3,4,5,6,7,8]\n",
    "ls1 = [i*i for i in my_ls]\n",
    "\n",
    "print(my_ls)\n",
    "print(ls1)"
   ]
  }
 ],
 "metadata": {
  "kernelspec": {
   "display_name": "Python 3",
   "language": "python",
   "name": "python3"
  },
  "language_info": {
   "codemirror_mode": {
    "name": "ipython",
    "version": 3
   },
   "file_extension": ".py",
   "mimetype": "text/x-python",
   "name": "python",
   "nbconvert_exporter": "python",
   "pygments_lexer": "ipython3",
   "version": "3.10.1"
  },
  "orig_nbformat": 4,
  "vscode": {
   "interpreter": {
    "hash": "369f2c481f4da34e4445cda3fffd2e751bd1c4d706f27375911949ba6bb62e1c"
   }
  }
 },
 "nbformat": 4,
 "nbformat_minor": 2
}
