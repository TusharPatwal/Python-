{
 "cells": [
  {
   "cell_type": "code",
   "execution_count": 19,
   "metadata": {},
   "outputs": [
    {
     "name": "stdout",
     "output_type": "stream",
     "text": [
      "Counter({'a': 3, 't': 2, 'u': 1, 's': 1, 'h': 1, 'r': 1, 'p': 1, 'w': 1, 'l': 1})\n",
      "dict_items([('t', 2), ('u', 1), ('s', 1), ('h', 1), ('a', 3), ('r', 1), ('p', 1), ('w', 1), ('l', 1)])\n",
      "dict_keys(['t', 'u', 's', 'h', 'a', 'r', 'p', 'w', 'l'])\n",
      "dict_values([2, 1, 1, 1, 3, 1, 1, 1, 1])\n",
      "[('a', 3), ('t', 2)]\n",
      "['t', 't', 'u', 's', 'h', 'a', 'a', 'a', 'r', 'p', 'w', 'l']\n"
     ]
    }
   ],
   "source": [
    "# collections: Counter, namedtuple, OderedDict, defaultDict, deque\n",
    "# Counter\n",
    "from collections import Counter\n",
    "a = \"tusharpatwal\"\n",
    "print(Counter(a))\n",
    "\n",
    "print(Counter(a).items())\n",
    "print(Counter(a).keys())\n",
    "print(Counter(a).values())\n",
    "\n",
    "\n",
    "# to print most common element\n",
    "print(Counter(a).most_common(2))\n",
    "\n",
    "# dict to list\n",
    "print(list(Counter(a).elements()))"
   ]
  },
  {
   "cell_type": "code",
   "execution_count": 21,
   "metadata": {},
   "outputs": [
    {
     "name": "stdout",
     "output_type": "stream",
     "text": [
      "pov(x=1, y=-4)\n",
      "1 -4\n"
     ]
    }
   ],
   "source": [
    "# namedtuple\n",
    "from collections import namedtuple\n",
    "\n",
    "pov = namedtuple(\"pov\",\"x,y\")\n",
    "print(pov(1,-4))\n",
    "\n",
    "p = pov(1,-4)\n",
    "print(p.x,p.y)"
   ]
  },
  {
   "cell_type": "code",
   "execution_count": 22,
   "metadata": {},
   "outputs": [
    {
     "name": "stdout",
     "output_type": "stream",
     "text": [
      "OrderedDict([('a', 1), ('b', 2), ('c', 3), ('d', 4), ('e', 5)])\n"
     ]
    }
   ],
   "source": [
    "# OderedDict\n",
    "from collections import OrderedDict\n",
    "\n",
    "orderedD = OrderedDict()\n",
    "orderedD['a'] = 1 \n",
    "orderedD['b'] = 2\n",
    "orderedD['c'] = 3\n",
    "orderedD['d'] = 4\n",
    "orderedD['e'] = 5\n",
    "print(orderedD)"
   ]
  },
  {
   "cell_type": "code",
   "execution_count": 31,
   "metadata": {},
   "outputs": [
    {
     "name": "stdout",
     "output_type": "stream",
     "text": [
      "1\n",
      "2\n",
      "0\n"
     ]
    }
   ],
   "source": [
    "# defaultDict\n",
    "from collections import defaultdict\n",
    "\n",
    "d = defaultdict(int)\n",
    "\n",
    "d['a'] = 1\n",
    "d['b'] = 2\n",
    "\n",
    "print(d['a'])\n",
    "print(d['b'])\n",
    "print(d['c'])"
   ]
  },
  {
   "cell_type": "code",
   "execution_count": 44,
   "metadata": {},
   "outputs": [
    {
     "name": "stdout",
     "output_type": "stream",
     "text": [
      "deque([1, 2, 4, 5])\n",
      "deque([3, 1, 2, 4, 5])\n",
      "deque([3, 1, 2, 4])\n",
      "deque([1, 2, 4])\n",
      "deque([])\n",
      "deque([1, 2, 3, 4, 5])\n",
      "deque([7, 8, 9, 1, 2, 3, 4, 5])\n",
      "deque([4, 5, 7, 8, 9, 1, 2, 3])\n",
      "deque([7, 8, 9, 1, 2, 3, 4, 5])\n"
     ]
    }
   ],
   "source": [
    "# deque\n",
    "\n",
    "from collections import deque\n",
    "\n",
    "d = deque()\n",
    "d.append(1)\n",
    "d.append(2)\n",
    "d.append(4)\n",
    "d.append(5)\n",
    "print(d)\n",
    "\n",
    "d.appendleft(3)\n",
    "print(d)\n",
    "\n",
    "d.pop()\n",
    "print(d)\n",
    "\n",
    "d.popleft()\n",
    "print(d)\n",
    "\n",
    "# for clearing the deque\n",
    "d.clear()\n",
    "print(d)\n",
    "\n",
    "# add multiple elements\n",
    "d.extend([1,2,3,4,5])\n",
    "print(d)\n",
    "\n",
    "d.extendleft([9,8,7])\n",
    "print(d)\n",
    "\n",
    "\n",
    "d.rotate(2)\n",
    "print(d)\n",
    "\n",
    "d.rotate(-2)\n",
    "print(d)"
   ]
  }
 ],
 "metadata": {
  "kernelspec": {
   "display_name": "Python 3",
   "language": "python",
   "name": "python3"
  },
  "language_info": {
   "codemirror_mode": {
    "name": "ipython",
    "version": 3
   },
   "file_extension": ".py",
   "mimetype": "text/x-python",
   "name": "python",
   "nbconvert_exporter": "python",
   "pygments_lexer": "ipython3",
   "version": "3.10.1"
  },
  "orig_nbformat": 4,
  "vscode": {
   "interpreter": {
    "hash": "369f2c481f4da34e4445cda3fffd2e751bd1c4d706f27375911949ba6bb62e1c"
   }
  }
 },
 "nbformat": 4,
 "nbformat_minor": 2
}
