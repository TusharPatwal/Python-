{
 "cells": [
  {
   "cell_type": "code",
   "execution_count": 10,
   "metadata": {},
   "outputs": [
    {
     "name": "stdout",
     "output_type": "stream",
     "text": [
      "('max', 28, 'boston')\n",
      "max\n",
      "28\n",
      "boston\n",
      "yes\n"
     ]
    }
   ],
   "source": [
    "# tuples(tuples are immutable)\n",
    "t = (\"max\",28,\"boston\")\n",
    "print(t)\n",
    "\n",
    "# iterating a tuple\n",
    "for i in t:\n",
    "    print(i)\n",
    "    \n",
    "# conditions on tuples(to check weather the element is in side the tuple)\n",
    "if \"max\" in t:\n",
    "    print('yes')\n",
    "else:\n",
    "    print('no')"
   ]
  },
  {
   "cell_type": "code",
   "execution_count": 8,
   "metadata": {},
   "outputs": [
    {
     "name": "stdout",
     "output_type": "stream",
     "text": [
      "max\n",
      "28\n",
      "boston\n",
      "boston\n",
      "28\n"
     ]
    }
   ],
   "source": [
    "# calling elements in tuples\n",
    "# positive indexing\n",
    "print(t[0])\n",
    "print(t[1])\n",
    "print(t[2])\n",
    "\n",
    "# negative indexing\n",
    "print(t[-1])\n",
    "print(t[-2])"
   ]
  },
  {
   "cell_type": "code",
   "execution_count": 15,
   "metadata": {},
   "outputs": [
    {
     "name": "stdout",
     "output_type": "stream",
     "text": [
      "5\n",
      "2\n",
      "3\n"
     ]
    }
   ],
   "source": [
    "# functions in tuples\n",
    "\n",
    "# length of tuple\n",
    "t1 = ('a','b','c','d','d')\n",
    "print(len(t1))\n",
    "\n",
    "# for counting a specific element in tuple\n",
    "print(t1.count('d'))\n",
    "\n",
    "# find the index of element in tuple\n",
    "print(t1.index('d')) # it will give you index when the element is occured first"
   ]
  },
  {
   "cell_type": "code",
   "execution_count": 20,
   "metadata": {},
   "outputs": [
    {
     "name": "stdout",
     "output_type": "stream",
     "text": [
      "[1, 2, 3, 4, 5, 6, 7, 8, 9, 0]\n",
      "(1, 2, 3, 4, 5, 6, 7, 8, 9, 0)\n"
     ]
    }
   ],
   "source": [
    "# type casting in tuple\n",
    "t2 = (1,2,3,4,5,6,7,8,9,0)\n",
    "\n",
    "l = list(t2)\n",
    "print(l)\n",
    "\n",
    "t3 = tuple(l)\n",
    "print(t3)"
   ]
  },
  {
   "cell_type": "code",
   "execution_count": 23,
   "metadata": {},
   "outputs": [
    {
     "name": "stdout",
     "output_type": "stream",
     "text": [
      "(3, 4, 5, 6, 7)\n",
      "(10, 9, 8, 7, 6, 5, 4, 3, 2, 1)\n"
     ]
    }
   ],
   "source": [
    "# slicing in tuple\n",
    "a = (1,2,3,4,5,6,7,8,9,10)\n",
    "\n",
    "print(a[2:7])\n",
    "print(a[::-1])"
   ]
  },
  {
   "cell_type": "code",
   "execution_count": 29,
   "metadata": {},
   "outputs": [
    {
     "name": "stdout",
     "output_type": "stream",
     "text": [
      "tushar\n",
      "20\n",
      "patwal\n",
      "0\n",
      "[1, 2, 3, 4, 5]\n",
      "6\n",
      "[0, 1, 2, 3, 4, 5]\n",
      "6\n"
     ]
    }
   ],
   "source": [
    "# unpack tuple\n",
    "tu = ('tushar',20,'patwal')\n",
    "\n",
    "name, age, lname = tu\n",
    "print(name)\n",
    "print(age)\n",
    "print(lname)\n",
    "\n",
    "\n",
    "tup = (0,1,2,3,4,5,6)\n",
    "\n",
    "i1, *i2, i3 = tup\n",
    "print(i1)\n",
    "print(i2)\n",
    "print(i3)\n",
    "\n",
    "*i , j = tup\n",
    "print(i)\n",
    "print(j)"
   ]
  },
  {
   "cell_type": "code",
   "execution_count": 31,
   "metadata": {},
   "outputs": [
    {
     "name": "stdout",
     "output_type": "stream",
     "text": [
      "120 bytes\n",
      "80 bytes\n"
     ]
    }
   ],
   "source": [
    "# example(to check who take more memory in list & tuples)\n",
    "import sys\n",
    "\n",
    "myList = [0,1,2,'hello',True]\n",
    "myTuple = (0,1,2,'hello',True)\n",
    "\n",
    "print(sys.getsizeof(myList),'bytes')\n",
    "print(sys.getsizeof(myTuple),'bytes')"
   ]
  },
  {
   "cell_type": "code",
   "execution_count": 33,
   "metadata": {},
   "outputs": [
    {
     "name": "stdout",
     "output_type": "stream",
     "text": [
      "0.17226570000639185\n",
      "0.025557200016919523\n"
     ]
    }
   ],
   "source": [
    "# timeit module is use to check the time it takes to run code\n",
    "import timeit\n",
    "\n",
    "print(timeit.timeit(stmt='[0,1,2,3,4,5]', number = 1000000))\n",
    "print(timeit.timeit(stmt='(0,1,2,3,4,5)', number = 1000000)) #(tuples takes less time to complete 1 million iteration than list)"
   ]
  }
 ],
 "metadata": {
  "kernelspec": {
   "display_name": "Python 3",
   "language": "python",
   "name": "python3"
  },
  "language_info": {
   "codemirror_mode": {
    "name": "ipython",
    "version": 3
   },
   "file_extension": ".py",
   "mimetype": "text/x-python",
   "name": "python",
   "nbconvert_exporter": "python",
   "pygments_lexer": "ipython3",
   "version": "3.10.1"
  },
  "orig_nbformat": 4,
  "vscode": {
   "interpreter": {
    "hash": "369f2c481f4da34e4445cda3fffd2e751bd1c4d706f27375911949ba6bb62e1c"
   }
  }
 },
 "nbformat": 4,
 "nbformat_minor": 2
}
