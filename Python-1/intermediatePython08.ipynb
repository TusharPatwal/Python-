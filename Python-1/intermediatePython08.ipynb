{
 "cells": [
  {
   "cell_type": "code",
   "execution_count": 20,
   "metadata": {},
   "outputs": [
    {
     "name": "stdout",
     "output_type": "stream",
     "text": [
      "13\n",
      "2355\n",
      "14\n",
      "[(1, 2), (15, 1), (5, -1), (10, 4)]\n",
      "[(1, 2), (5, -1), (10, 4), (15, 1)]\n",
      "[(5, -1), (15, 1), (1, 2), (10, 4)]\n",
      "[(1, 2), (5, -1), (10, 4), (15, 1)]\n"
     ]
    }
   ],
   "source": [
    "# Lambda function in python\n",
    "\n",
    "add10 = lambda x: x+10\n",
    "\n",
    "print(add10(3))\n",
    "print(add10(2345))\n",
    "\n",
    "mult = lambda x,y: x*y\n",
    "\n",
    "print(mult(2,7))\n",
    "\n",
    "\n",
    "points2d = [(1,2),(15,1),(5,-1),(10,4)]\n",
    "\n",
    "print(points2d)\n",
    "# sort by first index\n",
    "print(sorted(points2d))\n",
    "# sort by second index\n",
    "print(sorted(points2d,key = lambda x: x[1]))\n",
    "# ṣort by sum \n",
    "print(sorted(points2d, key = lambda x: x[0]+x[1]))\n",
    "\n"
   ]
  },
  {
   "cell_type": "code",
   "execution_count": 23,
   "metadata": {},
   "outputs": [
    {
     "name": "stdout",
     "output_type": "stream",
     "text": [
      "[2, 4, 6, 8, 10]\n"
     ]
    }
   ],
   "source": [
    "# map(func, seq)\n",
    "\n",
    "a = [1,2,3,4,5]\n",
    "b = map(lambda x: x*2, a)\n",
    "print(list(b))"
   ]
  },
  {
   "cell_type": "code",
   "execution_count": 26,
   "metadata": {},
   "outputs": [
    {
     "name": "stdout",
     "output_type": "stream",
     "text": [
      "[2, 4, 6]\n"
     ]
    }
   ],
   "source": [
    "# filter(func, seq)\n",
    "a = [1,2,3,4,5,6]\n",
    "b = filter(lambda x: x%2==0, a)\n",
    "print(list(b))"
   ]
  },
  {
   "cell_type": "code",
   "execution_count": 27,
   "metadata": {},
   "outputs": [
    {
     "name": "stdout",
     "output_type": "stream",
     "text": [
      "720\n"
     ]
    }
   ],
   "source": [
    "# reduce(func, seq)\n",
    "from functools import reduce\n",
    "a = [1,2,3,4,5,6]\n",
    "\n",
    "pa = reduce(lambda x,y: x*y, a)\n",
    "print(pa)"
   ]
  }
 ],
 "metadata": {
  "kernelspec": {
   "display_name": "Python 3",
   "language": "python",
   "name": "python3"
  },
  "language_info": {
   "codemirror_mode": {
    "name": "ipython",
    "version": 3
   },
   "file_extension": ".py",
   "mimetype": "text/x-python",
   "name": "python",
   "nbconvert_exporter": "python",
   "pygments_lexer": "ipython3",
   "version": "3.10.1"
  },
  "orig_nbformat": 4,
  "vscode": {
   "interpreter": {
    "hash": "369f2c481f4da34e4445cda3fffd2e751bd1c4d706f27375911949ba6bb62e1c"
   }
  }
 },
 "nbformat": 4,
 "nbformat_minor": 2
}
