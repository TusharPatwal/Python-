{
 "cells": [
  {
   "cell_type": "code",
   "execution_count": 11,
   "metadata": {},
   "outputs": [
    {
     "name": "stdout",
     "output_type": "stream",
     "text": [
      "hello\n",
      "h\n",
      "hello\n",
      "hello tushar\n",
      "t\n",
      "u\n",
      "s\n",
      "h\n",
      "a\n",
      "r\n",
      "yes\n",
      "no\n"
     ]
    }
   ],
   "source": [
    "# strings(they are immutable)\n",
    "s = \"hello\"\n",
    "print(s)\n",
    "\n",
    "# calling element in string\n",
    "print(s[0])\n",
    "\n",
    "# silicing string\n",
    "print(s[0:5])\n",
    "\n",
    "# concatinating a string\n",
    "name = \"tushar\"\n",
    "print(s + \" \" + name)\n",
    "\n",
    "# iterate in string by loops\n",
    "for i in name:\n",
    "    print(i)\n",
    "    \n",
    "# condition on string\n",
    "if 'h' in s:\n",
    "    print('yes')\n",
    "else:\n",
    "    print('no')\n",
    "    \n",
    "if 't' in s:\n",
    "    print('yes')\n",
    "else:\n",
    "    print('no')"
   ]
  },
  {
   "cell_type": "code",
   "execution_count": 23,
   "metadata": {},
   "outputs": [
    {
     "name": "stdout",
     "output_type": "stream",
     "text": [
      "important\n",
      "HELLO\n",
      "hello\n",
      "True\n",
      "True\n",
      "4\n",
      "-1\n",
      "2\n"
     ]
    }
   ],
   "source": [
    "# to remove wide space from string\n",
    "s1 = \"      important      \"\n",
    "print(s1.strip())\n",
    "\n",
    "# to convert string in upper case\n",
    "s2 = \"hello\"\n",
    "print(s2.upper())\n",
    "\n",
    "# to convert string in lower case\n",
    "s3 = \"HELLO\"\n",
    "print(s3.lower())\n",
    "\n",
    "# check if string startswith a specific char of endswith a specific char\n",
    "print(s2.startswith('h'))\n",
    "\n",
    "print(s2.endswith('o'))\n",
    "\n",
    "\n",
    "# to find the first occurance of element in string\n",
    "print(s2.find('o'))\n",
    "# if element is not present if will written -1\n",
    "print(s2.find('t'))\n",
    "\n",
    "\n",
    "# number of char in string\n",
    "print(s2.count('l'))"
   ]
  },
  {
   "cell_type": "code",
   "execution_count": 37,
   "metadata": {},
   "outputs": [
    {
     "name": "stdout",
     "output_type": "stream",
     "text": [
      "hello india\n",
      "hetto wortd\n",
      "['how', 'are', 'you', 'doing']\n",
      "how are you doing\n"
     ]
    }
   ],
   "source": [
    "# replace element in string\n",
    "greet = \"hello world\"\n",
    "print(greet.replace('world','india'))\n",
    "\n",
    "print(greet.replace('l','t'))\n",
    "\n",
    "# string to list\n",
    "myString = \"how are you doing\"\n",
    "l = myString.split(\" \")\n",
    "print(l)\n",
    "\n",
    "# list to string\n",
    "new = ''.join(myString)\n",
    "print(new)"
   ]
  },
  {
   "cell_type": "code",
   "execution_count": 40,
   "metadata": {},
   "outputs": [
    {
     "name": "stdout",
     "output_type": "stream",
     "text": [
      "['a', 'a', 'a', 'a', 'a', 'a']\n",
      "aaaaaa\n"
     ]
    }
   ],
   "source": [
    "# list to string\n",
    "myLst = ['a']*6\n",
    "print(myLst)\n",
    "\n",
    "print(''.join(myLst))"
   ]
  },
  {
   "cell_type": "code",
   "execution_count": 43,
   "metadata": {},
   "outputs": [
    {
     "name": "stdout",
     "output_type": "stream",
     "text": [
      "0.3221431000274606\n",
      "0.03284839994739741\n"
     ]
    }
   ],
   "source": [
    "# to check time complexity in two method to join string\n",
    "from timeit import default_timer as t\n",
    "\n",
    "start = t()\n",
    "mys = ['a']*1000000\n",
    "s = \"\"\n",
    "for i in myLst:\n",
    "    mys += i\n",
    "stop = t()\n",
    "print(stop-start)\n",
    "\n",
    "\n",
    "start = t()\n",
    "''.join(mys)\n",
    "stop = t()\n",
    "print(stop-start)"
   ]
  }
 ],
 "metadata": {
  "kernelspec": {
   "display_name": "Python 3",
   "language": "python",
   "name": "python3"
  },
  "language_info": {
   "codemirror_mode": {
    "name": "ipython",
    "version": 3
   },
   "file_extension": ".py",
   "mimetype": "text/x-python",
   "name": "python",
   "nbconvert_exporter": "python",
   "pygments_lexer": "ipython3",
   "version": "3.10.1"
  },
  "orig_nbformat": 4,
  "vscode": {
   "interpreter": {
    "hash": "369f2c481f4da34e4445cda3fffd2e751bd1c4d706f27375911949ba6bb62e1c"
   }
  }
 },
 "nbformat": 4,
 "nbformat_minor": 2
}
