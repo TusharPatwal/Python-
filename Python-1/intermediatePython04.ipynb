{
 "cells": [
  {
   "cell_type": "code",
   "execution_count": 14,
   "metadata": {},
   "outputs": [
    {
     "name": "stdout",
     "output_type": "stream",
     "text": [
      "{1, 2, 3, 4, 5}\n",
      "<class 'set'>\n",
      "{'l', 'h', 'o', 'e'}\n",
      "{1, 2, 3, 5, 6, 7}\n",
      "{1, 2, 3, 5, 6, 7}\n"
     ]
    }
   ],
   "source": [
    "# set(it does nt allow duplicate)\n",
    "\n",
    "s = {1,2,3,4,5,1,2,3}\n",
    "print(s)\n",
    "print(type(s))\n",
    "\n",
    "S=set(\"hello\")\n",
    "print(S)\n",
    "\n",
    "# add element in set\n",
    "s.add(6)\n",
    "s.add(7)\n",
    "\n",
    "# remove element in set(if it not find element it will show an error)\n",
    "s.remove(4)\n",
    "print(s)\n",
    "\n",
    "# remove element in set(if it not find element it will not show an error)\n",
    "s.discard(9)\n",
    "print(s)"
   ]
  },
  {
   "cell_type": "code",
   "execution_count": 20,
   "metadata": {},
   "outputs": [
    {
     "name": "stdout",
     "output_type": "stream",
     "text": [
      "1\n",
      "{2, 3, 4, 5}\n",
      "set()\n",
      "1\n",
      "2\n",
      "3\n",
      "5\n",
      "6\n",
      "7\n"
     ]
    }
   ],
   "source": [
    "# to delete element from set\n",
    "s1 = {1,2,3,4,5}\n",
    "print(s1.pop())\n",
    "\n",
    "print(s1)\n",
    "\n",
    "# empty the set\n",
    "s1.clear()\n",
    "print(s1)\n",
    "\n",
    "# iterate the set\n",
    "for i in s:\n",
    "    print(i)"
   ]
  },
  {
   "cell_type": "code",
   "execution_count": 22,
   "metadata": {},
   "outputs": [
    {
     "name": "stdout",
     "output_type": "stream",
     "text": [
      "yes\n",
      "no\n"
     ]
    }
   ],
   "source": [
    "# check if element is in set\n",
    "if 1 in s:\n",
    "    print('yes')\n",
    "else:\n",
    "    print('no')\n",
    "    \n",
    "if 10 in s:\n",
    "    print('yes')\n",
    "else:\n",
    "    print('no')"
   ]
  },
  {
   "cell_type": "code",
   "execution_count": 42,
   "metadata": {},
   "outputs": [
    {
     "name": "stdout",
     "output_type": "stream",
     "text": [
      "{1, 2, 3, 4, 5, 6, 7, 8}\n",
      "{3, 5, 7}\n",
      "{8, 4, 6}\n",
      "{1, 2}\n",
      "{1, 2, 3, 4, 5, 6, 7, 8}\n"
     ]
    }
   ],
   "source": [
    "odds = {1,3,5,7}\n",
    "evens = {2,4,6,8}\n",
    "primes = {2,3,5,7}\n",
    "\n",
    "# to do union of sets\n",
    "print(odds.union(evens))\n",
    "\n",
    "# to do intersection of sets\n",
    "print(odds.intersection(primes))\n",
    "\n",
    "# to find the difference in sets\n",
    "print(evens.difference(primes))\n",
    "\n",
    "# to find the symmetri_difference in sets\n",
    "print(odds.symmetric_difference(primes))\n",
    "\n",
    "# to merge two sets\n",
    "evens.update(odds)\n",
    "print(evens)\n"
   ]
  },
  {
   "cell_type": "code",
   "execution_count": 48,
   "metadata": {},
   "outputs": [
    {
     "name": "stdout",
     "output_type": "stream",
     "text": [
      "{3, 4, 5}\n",
      "{0, 8, 9}\n",
      "{0, 1, 2, 5, 7, 8, 9}\n"
     ]
    }
   ],
   "source": [
    "a = {1,2,3,4,5}\n",
    "b = {5,4,3,6,7}\n",
    "c = {6,7,8,9,0}\n",
    "# to find common elements in sets\n",
    "a.intersection_update(b)\n",
    "print(a)\n",
    "\n",
    "# to find difference update in sets\n",
    "c.difference_update(b)\n",
    "print(c)\n",
    "\n",
    "s2 = {1,2,3,4,5,6}\n",
    "s3 = {3,4,6,7,8,9,0}\n",
    "# to find uncommon elements in sets\n",
    "s2.symmetric_difference_update(s3)\n",
    "print(s2)"
   ]
  },
  {
   "cell_type": "code",
   "execution_count": 53,
   "metadata": {},
   "outputs": [
    {
     "name": "stdout",
     "output_type": "stream",
     "text": [
      "True\n",
      "False\n",
      "True\n",
      "False\n"
     ]
    }
   ],
   "source": [
    "# to find if set is subset of another set\n",
    "\n",
    "s = {1,2,3,4,5,6,7,8}\n",
    "s1 = {1,2,3,6}\n",
    "print(s1.issubset(s))\n",
    "print(s.issubset(s1))  \n",
    "\n",
    "\n",
    "# to find if set is superset of another set\n",
    "print(s.issuperset(s1))\n",
    "print(s1.issuperset(s))"
   ]
  },
  {
   "cell_type": "code",
   "execution_count": 55,
   "metadata": {},
   "outputs": [
    {
     "name": "stdout",
     "output_type": "stream",
     "text": [
      "{1, 2, 3, 4, 5, 6, 7, 8, 11}\n",
      "{1, 2, 3, 4, 5, 6, 7, 8}\n"
     ]
    }
   ],
   "source": [
    "# copy a set \n",
    "sc = s.copy()\n",
    "\n",
    "sc.add(11)\n",
    "print(sc)\n",
    "print(s)"
   ]
  },
  {
   "cell_type": "code",
   "execution_count": 57,
   "metadata": {},
   "outputs": [
    {
     "name": "stdout",
     "output_type": "stream",
     "text": [
      "frozenset({1, 2, 3, 4, 5})\n"
     ]
    }
   ],
   "source": [
    "# frozenset is immutable\n",
    "a = frozenset([1,2,3,4,5])\n",
    "print(a)"
   ]
  }
 ],
 "metadata": {
  "kernelspec": {
   "display_name": "Python 3",
   "language": "python",
   "name": "python3"
  },
  "language_info": {
   "codemirror_mode": {
    "name": "ipython",
    "version": 3
   },
   "file_extension": ".py",
   "mimetype": "text/x-python",
   "name": "python",
   "nbconvert_exporter": "python",
   "pygments_lexer": "ipython3",
   "version": "3.10.1"
  },
  "orig_nbformat": 4,
  "vscode": {
   "interpreter": {
    "hash": "369f2c481f4da34e4445cda3fffd2e751bd1c4d706f27375911949ba6bb62e1c"
   }
  }
 },
 "nbformat": 4,
 "nbformat_minor": 2
}
