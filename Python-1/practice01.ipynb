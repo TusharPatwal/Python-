{
 "cells": [
  {
   "cell_type": "code",
   "execution_count": 6,
   "metadata": {},
   "outputs": [
    {
     "name": "stdout",
     "output_type": "stream",
     "text": [
      "[1 3 2 4 5 6 7 8 9]\n"
     ]
    }
   ],
   "source": [
    "import numpy as np\n",
    "\n",
    "a = np.array([1,3,2,4,5,6,7,8,9])\n",
    "print(a)"
   ]
  },
  {
   "cell_type": "code",
   "execution_count": 13,
   "metadata": {},
   "outputs": [
    {
     "name": "stdout",
     "output_type": "stream",
     "text": [
      "[[1 3 2]\n",
      " [4 5 6]\n",
      " [7 8 9]]\n",
      "[ 1 11 12 12  9]\n",
      "[ 1 -7 -4 -2  3]\n",
      "[ 0 18 32 35 18]\n",
      "[0.  4.5 2.  1.4 0.5]\n",
      "[0 1 0 2 3]\n"
     ]
    }
   ],
   "source": [
    "# reshaping array\n",
    "print(a.reshape(3,3))\n",
    "\n",
    "# elementwise operation on array\n",
    "a1 = np.array([1,2,4,5,6])\n",
    "a2 = np.array([0,9,8,7,3])\n",
    "print(a1+a2)\n",
    "\n",
    "print(a1-a2)\n",
    "\n",
    "print(a2*a1)\n",
    "\n",
    "print(a2/a1)\n",
    "\n",
    "print(a2%a1)"
   ]
  },
  {
   "cell_type": "code",
   "execution_count": 17,
   "metadata": {},
   "outputs": [
    {
     "name": "stdout",
     "output_type": "stream",
     "text": [
      "30\n",
      "2\n",
      "10\n",
      "6.0\n",
      "2.8284271247461903\n"
     ]
    }
   ],
   "source": [
    "# Aggregate Operations in array\n",
    "ar = np.array([2,4,6,8,10])\n",
    "\n",
    "print(ar.sum())\n",
    "\n",
    "print(ar.min())\n",
    "\n",
    "print(ar.max())\n",
    "\n",
    "print(ar.mean())\n",
    "\n",
    "print(ar.std())"
   ]
  },
  {
   "cell_type": "code",
   "execution_count": 23,
   "metadata": {},
   "outputs": [
    {
     "name": "stdout",
     "output_type": "stream",
     "text": [
      "7\n",
      "[1 3 5 7 9]\n",
      "[ 7  9 11 13]\n",
      "[5 7 9]\n"
     ]
    }
   ],
   "source": [
    "# array indexing and slicing\n",
    "arr = np.array([1,3,5,7,9,11,13])\n",
    "\n",
    "# call element with index \n",
    "print(arr[3])\n",
    "\n",
    "# slicing \n",
    "print(arr[:5])\n",
    "# or\n",
    "print(arr[3:])\n",
    "# or\n",
    "print(arr[2:5])"
   ]
  },
  {
   "cell_type": "code",
   "execution_count": 33,
   "metadata": {},
   "outputs": [
    {
     "name": "stdout",
     "output_type": "stream",
     "text": [
      "[ 1  5  3  5  7  9 11 13]\n",
      "[[1 2]\n",
      " [3 4]\n",
      " [5 6]\n",
      " [7 8]]\n",
      "[ 1.   4.8  8.6 12.4 16.2 20. ]\n",
      "[[1. 0. 0. 0. 0.]\n",
      " [0. 1. 0. 0. 0.]\n",
      " [0. 0. 1. 0. 0.]\n",
      " [0. 0. 0. 1. 0.]\n",
      " [0. 0. 0. 0. 1.]]\n"
     ]
    }
   ],
   "source": [
    "# insert Row/Columns in array -> np.insert(array_name, index, values)\n",
    "print(np.insert(arr,1,5))\n",
    "\n",
    "# Append Row/Columns in array \n",
    "arr1 = np.array([[1,2],[3,4],[5,6]])\n",
    "print(np.append(arr1,[[7,8]],axis=0))\n",
    "\n",
    "# Numpy Linespace\n",
    "print(np.linspace(1,20, 6))\n",
    "\n",
    "# numpy eye\n",
    "print(np.eye(5))\n"
   ]
  },
  {
   "cell_type": "code",
   "execution_count": 38,
   "metadata": {},
   "outputs": [
    {
     "name": "stdout",
     "output_type": "stream",
     "text": [
      "[ 1  3  4  5  6  8  9 12]\n",
      "[ 1  3  3  4  4  5  6  8  9 12]\n",
      "[[7 7 7 7]\n",
      " [7 7 7 7]\n",
      " [7 7 7 7]]\n"
     ]
    }
   ],
   "source": [
    "# numpy unique \n",
    "arr2 = np.array([1,3,4,5,3,4,6,8,9,12])\n",
    "print(np.unique(arr2))\n",
    "\n",
    "# numpy sort \n",
    "print(np.sort(arr2))\n",
    "\n",
    "# numpy full \n",
    "print(np.full((3,4),7))"
   ]
  }
 ],
 "metadata": {
  "kernelspec": {
   "display_name": "Python 3",
   "language": "python",
   "name": "python3"
  },
  "language_info": {
   "codemirror_mode": {
    "name": "ipython",
    "version": 3
   },
   "file_extension": ".py",
   "mimetype": "text/x-python",
   "name": "python",
   "nbconvert_exporter": "python",
   "pygments_lexer": "ipython3",
   "version": "3.10.1"
  },
  "orig_nbformat": 4,
  "vscode": {
   "interpreter": {
    "hash": "369f2c481f4da34e4445cda3fffd2e751bd1c4d706f27375911949ba6bb62e1c"
   }
  }
 },
 "nbformat": 4,
 "nbformat_minor": 2
}
