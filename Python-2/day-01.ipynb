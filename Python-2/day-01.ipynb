{
 "cells": [
  {
   "cell_type": "markdown",
   "metadata": {},
   "source": [
    "# Type Casting \n",
    "- Type Casting is the method to convert the Python variable datatype into a certain data type in order to perform the required operation by users. "
   ]
  },
  {
   "cell_type": "code",
   "execution_count": 1,
   "metadata": {},
   "outputs": [
    {
     "name": "stdout",
     "output_type": "stream",
     "text": [
      "5\n",
      "<class 'int'>\n",
      "5\n",
      "<class 'int'>\n"
     ]
    }
   ],
   "source": [
    "# float to int  \n",
    "a = int(5.8)\n",
    "print(a)\n",
    "print(type(a))\n",
    "\n",
    "# string to int\n",
    "a1 = int('5')\n",
    "print(a1)\n",
    "print(type(a1))"
   ]
  },
  {
   "cell_type": "code",
   "execution_count": 2,
   "metadata": {},
   "outputs": [
    {
     "name": "stdout",
     "output_type": "stream",
     "text": [
      "5.0\n",
      "<class 'float'>\n",
      "5.0\n",
      "<class 'float'>\n"
     ]
    }
   ],
   "source": [
    "# int to float  \n",
    "a = float(5)\n",
    "print(a)\n",
    "print(type(a))\n",
    "\n",
    "# string to float\n",
    "a1 = float('5')\n",
    "print(a1)\n",
    "print(type(a1))"
   ]
  },
  {
   "cell_type": "code",
   "execution_count": 3,
   "metadata": {},
   "outputs": [
    {
     "name": "stdout",
     "output_type": "stream",
     "text": [
      "5\n",
      "<class 'str'>\n",
      "5\n",
      "<class 'str'>\n"
     ]
    }
   ],
   "source": [
    "# int to string  \n",
    "a = str(5)\n",
    "print(a)\n",
    "print(type(a))\n",
    "\n",
    "# float to string\n",
    "a1 = str('5')\n",
    "print(a1)\n",
    "print(type(a1))"
   ]
  },
  {
   "cell_type": "markdown",
   "metadata": {},
   "source": [
    "# Enumerate\n",
    "- Enumerate is a built-in function in python that allows you to keep track of the number of iterations (loops) in a loop"
   ]
  },
  {
   "cell_type": "code",
   "execution_count": 1,
   "metadata": {},
   "outputs": [
    {
     "name": "stdout",
     "output_type": "stream",
     "text": [
      "0 Pranjal\n",
      "1 Prachi\n",
      "2 Amit\n",
      "3 Dog\n",
      "4 Cat\n",
      "5 Pussy\n"
     ]
    }
   ],
   "source": [
    "animals = ['Pranjal','Prachi','Amit','Dog','Cat','Pussy']\n",
    "\n",
    "for index, value in enumerate(animals):\n",
    "    print(f'{index} {value}')"
   ]
  },
  {
   "cell_type": "markdown",
   "metadata": {},
   "source": [
    "# Python break Statement\n",
    "- The break statement is used to terminate the loop immediately when it is encountered."
   ]
  },
  {
   "cell_type": "code",
   "execution_count": null,
   "metadata": {},
   "outputs": [],
   "source": [
    "counter = 0\n",
    "\n",
    "while counter < 10:\n",
    "    if(counter == 5):\n",
    "        break\n",
    "    print(counter)\n",
    "    counter+=1\n",
    "print('While Loop is finished...')"
   ]
  },
  {
   "cell_type": "markdown",
   "metadata": {},
   "source": [
    "# Python continue Statement\n",
    "- The continue statement is used to skip the current iteration of the loop and the control flow of the program goes to the next iteration."
   ]
  },
  {
   "cell_type": "code",
   "execution_count": 9,
   "metadata": {},
   "outputs": [
    {
     "name": "stdout",
     "output_type": "stream",
     "text": [
      "1\n",
      "2\n",
      "4\n",
      "5\n",
      "7\n",
      "8\n"
     ]
    }
   ],
   "source": [
    "for i in range(0,10,1):\n",
    "    if i%3==0:\n",
    "        continue\n",
    "    print(i)"
   ]
  },
  {
   "cell_type": "markdown",
   "metadata": {},
   "source": [
    "## Fibonacci Numbers "
   ]
  },
  {
   "cell_type": "code",
   "execution_count": 24,
   "metadata": {},
   "outputs": [
    {
     "name": "stdout",
     "output_type": "stream",
     "text": [
      "Enter the number: 5\n",
      "0 1  1  2  3  5  8  "
     ]
    }
   ],
   "source": [
    "Number = int(input('Enter the number: '))\n",
    "a1, a2 = 0, 1\n",
    "print(f'{a1} {a2} ', end = ' ')\n",
    "for i in range(Number):\n",
    "    a3 = a1 + a2\n",
    "    a1 = a2\n",
    "    a2 = a3\n",
    "    print(str(a3) + \" \", end=' ')"
   ]
  },
  {
   "cell_type": "markdown",
   "metadata": {},
   "source": [
    "# Functions \n",
    "- A function is a block of code which only runs when it is called.\n",
    "\n",
    "- You can pass data, known as parameters, into a function.\n",
    "\n",
    "- A function can return data as a result."
   ]
  },
  {
   "cell_type": "code",
   "execution_count": 3,
   "metadata": {},
   "outputs": [
    {
     "name": "stdout",
     "output_type": "stream",
     "text": [
      "Name of person is Tushar\n"
     ]
    }
   ],
   "source": [
    "def show_name(name):\n",
    "    print(f'Name of person is {name}')\n",
    "    \n",
    "show_name('Tushar')"
   ]
  },
  {
   "cell_type": "markdown",
   "metadata": {},
   "source": [
    "## Parameters or Arguments?\n",
    "- A parameter is the variable listed inside the parentheses in the function definition.\n",
    "\n",
    "- An argument is the value that are sent to the function when it is called."
   ]
  },
  {
   "cell_type": "code",
   "execution_count": 5,
   "metadata": {},
   "outputs": [],
   "source": [
    "# function without body in python\n",
    "\n",
    "def without_body(name, age):\n",
    "    pass\n",
    "without_body('tushar',21)"
   ]
  },
  {
   "cell_type": "markdown",
   "metadata": {},
   "source": [
    "# Positional Arguments\n",
    "- Positional arguments are the arguments that are passed to a function or method in a specific order."
   ]
  },
  {
   "cell_type": "code",
   "execution_count": 7,
   "metadata": {},
   "outputs": [
    {
     "name": "stdout",
     "output_type": "stream",
     "text": [
      "My name is Tushar\n"
     ]
    }
   ],
   "source": [
    "def my_name(name):\n",
    "    print(f'My name is {name}')\n",
    "my_name('Tushar')"
   ]
  },
  {
   "cell_type": "markdown",
   "metadata": {},
   "source": [
    "# Keyword Arguments\n",
    "- Keyword arguments are arguments that are passed to a function or method using the name of the argument followed by an equal sign and the value of the argument. "
   ]
  },
  {
   "cell_type": "code",
   "execution_count": 9,
   "metadata": {},
   "outputs": [
    {
     "name": "stdout",
     "output_type": "stream",
     "text": [
      "My name is Tushar and my age is 21.\n"
     ]
    }
   ],
   "source": [
    "def my_bio(name, age):\n",
    "    print(f'My name is {name} and my age is {age}.')\n",
    "\n",
    "my_bio(age=21, name='Tushar')"
   ]
  },
  {
   "cell_type": "code",
   "execution_count": 10,
   "metadata": {},
   "outputs": [
    {
     "name": "stdout",
     "output_type": "stream",
     "text": [
      "a\n",
      "b\n",
      "c\n",
      "d\n"
     ]
    }
   ],
   "source": [
    "# \n",
    "def names(*names):\n",
    "    print(names[0])\n",
    "    print(names[1])\n",
    "    print(names[2])\n",
    "    print(names[3])\n",
    "    \n",
    "names('a','b','c','d')"
   ]
  },
  {
   "cell_type": "code",
   "execution_count": 13,
   "metadata": {},
   "outputs": [
    {
     "name": "stdout",
     "output_type": "stream",
     "text": [
      "tushar\n",
      "patwal\n",
      "21\n"
     ]
    }
   ],
   "source": [
    "# \n",
    "def details(**parameters):\n",
    "    print(parameters['fname'])\n",
    "    print(parameters['lname'])\n",
    "    print(parameters['age'])\n",
    "    \n",
    "details(fname='tushar',lname='patwal',age=21)\n"
   ]
  },
  {
   "cell_type": "code",
   "execution_count": 1,
   "metadata": {},
   "outputs": [
    {
     "name": "stdout",
     "output_type": "stream",
     "text": [
      "44\n"
     ]
    }
   ],
   "source": [
    "# Return values in functions\n",
    "\n",
    "def add(num1, num2):\n",
    "    return (num1+num2)\n",
    "\n",
    "print(add(22,22))"
   ]
  },
  {
   "cell_type": "markdown",
   "metadata": {},
   "source": [
    "# Yield\n",
    "- yield is a keyword that is used like return, except the function will return a generator."
   ]
  },
  {
   "cell_type": "code",
   "execution_count": 1,
   "metadata": {},
   "outputs": [
    {
     "name": "stdout",
     "output_type": "stream",
     "text": [
      "0\n",
      "2\n",
      "4\n",
      "6\n",
      "8\n"
     ]
    }
   ],
   "source": [
    "def yieldFunction():\n",
    "    \n",
    "    for num in range(0,10,1):\n",
    "        if num % 2 == 0:\n",
    "            yield num\n",
    "\n",
    "for num in yieldFunction():\n",
    "    print(num)"
   ]
  },
  {
   "cell_type": "markdown",
   "metadata": {},
   "source": [
    "# Recursion\n",
    "- It means that a function calls itself. This has the benefit of meaning that you can loop through data to reach a result."
   ]
  },
  {
   "cell_type": "code",
   "execution_count": 2,
   "metadata": {},
   "outputs": [
    {
     "name": "stdout",
     "output_type": "stream",
     "text": [
      "15\n"
     ]
    }
   ],
   "source": [
    "def sum_recursion(n):\n",
    "    \n",
    "    if n == 0:\n",
    "        return 0\n",
    "    else:\n",
    "        return n + sum_recursion(n-1)\n",
    "    \n",
    "print(sum_recursion(5))"
   ]
  },
  {
   "cell_type": "code",
   "execution_count": 26,
   "metadata": {},
   "outputs": [
    {
     "name": "stdout",
     "output_type": "stream",
     "text": [
      "120\n"
     ]
    }
   ],
   "source": [
    "def factorial_recursion(n):\n",
    "    if n == 0:\n",
    "        return 1\n",
    "    else:\n",
    "        return n * factorial_recursion(n-1)\n",
    "    \n",
    "print(factorial_recursion(5))"
   ]
  },
  {
   "cell_type": "code",
   "execution_count": 28,
   "metadata": {},
   "outputs": [
    {
     "name": "stdout",
     "output_type": "stream",
     "text": [
      "h\n",
      "e\n",
      "l\n",
      "l\n",
      "o\n",
      "None\n"
     ]
    }
   ],
   "source": [
    "def process(txt, i):\n",
    " \n",
    "    # base case - when to terminate\n",
    "    if i == len(txt):\n",
    "        return\n",
    " \n",
    "    print(txt[i])\n",
    " \n",
    "    # hop to the next character in the text\n",
    "    process(txt, i+1)\n",
    "    \n",
    "print(process('hello',0))"
   ]
  },
  {
   "cell_type": "code",
   "execution_count": 30,
   "metadata": {},
   "outputs": [
    {
     "name": "stdout",
     "output_type": "stream",
     "text": [
      "hello...\n"
     ]
    }
   ],
   "source": [
    "def printHello():\n",
    "    print('hello...')\n",
    "    \n",
    "    \n",
    "if __name__ == '__main__':\n",
    "    printHello()"
   ]
  },
  {
   "cell_type": "markdown",
   "metadata": {},
   "source": [
    "Time Complexity\n",
    "=============\n",
    "- To explain in simple terms, Time Complexity is the total amount of time taken to execute a piece of code. \n",
    "- This piece of code could be an algorithm or merely a logic which is optimal and efficient. \n",
    "\n",
    "Note: \n",
    "------\n",
    "The lesser the time complexity of the code means the faster execution of it."
   ]
  },
  {
   "cell_type": "markdown",
   "metadata": {},
   "source": [
    "List\n",
    "===\n",
    "- Lists are used to store multiple items in a single variable."
   ]
  },
  {
   "cell_type": "code",
   "execution_count": 17,
   "metadata": {},
   "outputs": [
    {
     "name": "stdout",
     "output_type": "stream",
     "text": [
      "[1, 5, 10, 4]\n",
      "Type: <class 'list'>\n",
      "Number of elements in list: 4\n",
      "1\n",
      "5\n",
      "10\n",
      "4\n"
     ]
    }
   ],
   "source": [
    "lst = [1,5,10,4]\n",
    "print(lst)\n",
    "\n",
    "print(f'Type: {type(lst)}')\n",
    "print(f'Number of elements in list: {len(lst)}')\n",
    "\n",
    "for value in lst:\n",
    "    print(value)"
   ]
  },
  {
   "cell_type": "code",
   "execution_count": 18,
   "metadata": {},
   "outputs": [
    {
     "name": "stdout",
     "output_type": "stream",
     "text": [
      "[5, 10, 4]\n",
      "[5, 10, 4, 'New Item']\n"
     ]
    }
   ],
   "source": [
    "# del \n",
    "del lst[0]\n",
    "print(lst)\n",
    "\n",
    "\n",
    "# append\n",
    "lst.append('New Item')\n",
    "print(lst)"
   ]
  },
  {
   "cell_type": "code",
   "execution_count": 27,
   "metadata": {},
   "outputs": [
    {
     "name": "stdout",
     "output_type": "stream",
     "text": [
      "[1, 2, 3, 4, 5, 6]\n",
      "[1, 2, 3, 4, 5, 6]\n",
      "[1, 2, 3, 4, 5]\n",
      "[5, 4, 3, 2, 1]\n",
      "[1, 2, 3, 4, 5]\n"
     ]
    }
   ],
   "source": [
    "# extend\n",
    "l1 = [1,2,3]\n",
    "l2 = [4,5,6]\n",
    "\n",
    "l1.extend(l2)\n",
    "print(l1)\n",
    "\n",
    "\n",
    "# copy\n",
    "copy_list = l1.copy()\n",
    "print(copy_list)\n",
    "\n",
    "\n",
    "# remove\n",
    "# l1.remove(1)\n",
    "# print(l1)\n",
    "\n",
    "\n",
    "# pop\n",
    "l1.pop()\n",
    "print(l1)\n",
    "\n",
    "\n",
    "# reverse\n",
    "l1.reverse()\n",
    "print(l1)\n",
    "\n",
    "\n",
    "# sort\n",
    "l1.sort()\n",
    "print(l1)"
   ]
  },
  {
   "cell_type": "markdown",
   "metadata": {},
   "source": [
    "Array\n",
    "-------\n",
    "- An array is a special variable, which can hold more than one value at a time.\n",
    "- An array can hold many values under a single name, and you can access the values by referring to an index number."
   ]
  },
  {
   "cell_type": "code",
   "execution_count": null,
   "metadata": {},
   "outputs": [],
   "source": []
  }
 ],
 "metadata": {
  "kernelspec": {
   "display_name": "Python 3 (ipykernel)",
   "language": "python",
   "name": "python3"
  },
  "language_info": {
   "codemirror_mode": {
    "name": "ipython",
    "version": 3
   },
   "file_extension": ".py",
   "mimetype": "text/x-python",
   "name": "python",
   "nbconvert_exporter": "python",
   "pygments_lexer": "ipython3",
   "version": "3.10.1"
  }
 },
 "nbformat": 4,
 "nbformat_minor": 2
}
