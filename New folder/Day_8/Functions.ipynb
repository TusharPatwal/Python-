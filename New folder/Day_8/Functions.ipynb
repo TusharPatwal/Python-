{
 "cells": [
  {
   "cell_type": "code",
   "execution_count": 1,
   "metadata": {},
   "outputs": [
    {
     "name": "stdout",
     "output_type": "stream",
     "text": [
      "Hello, Tushar\n"
     ]
    }
   ],
   "source": [
    "# Functions\n",
    "def my_function():\n",
    "    print('Hello, Tushar')\n",
    "    \n",
    "my_function()"
   ]
  },
  {
   "cell_type": "code",
   "execution_count": 2,
   "metadata": {},
   "outputs": [
    {
     "name": "stdout",
     "output_type": "stream",
     "text": [
      "Hello\n",
      "Tushar\n",
      "How are you?\n"
     ]
    }
   ],
   "source": [
    "def greet():\n",
    "    print('Hello\\nTushar\\nHow are you?')\n",
    "    \n",
    "greet()"
   ]
  },
  {
   "cell_type": "code",
   "execution_count": 1,
   "metadata": {},
   "outputs": [
    {
     "name": "stdout",
     "output_type": "stream",
     "text": [
      "Hello Billie\n",
      "How do you do Billie?\n"
     ]
    }
   ],
   "source": [
    "# Functions that allows for inputs\n",
    "def greet_with_name(name):\n",
    "    print(f'Hello {name}')\n",
    "    print(f'How do you do {name}?')\n",
    "    \n",
    "greet_with_name('Billie')"
   ]
  },
  {
   "cell_type": "code",
   "execution_count": 4,
   "metadata": {},
   "outputs": [
    {
     "name": "stdout",
     "output_type": "stream",
     "text": [
      "Hello Tushar\n",
      "What it is like in Burari\n"
     ]
    }
   ],
   "source": [
    "# Functions with more than 1 input\n",
    "\n",
    "def greet_with(name, location):\n",
    "    print(f'Hello {name}')\n",
    "    print(f'What it is like in {location}')\n",
    "    \n",
    "greet_with('Tushar','Burari')"
   ]
  },
  {
   "cell_type": "code",
   "execution_count": 8,
   "metadata": {},
   "outputs": [
    {
     "name": "stdout",
     "output_type": "stream",
     "text": [
      "Hello Burari\n",
      "What it is like in Tushar\n",
      "\n",
      "Hello Tushar\n",
      "What it is like in Burari\n"
     ]
    }
   ],
   "source": [
    "# Positional Argunment\n",
    "greet_with('Burari','Tushar')\n",
    "\n",
    "print()\n",
    "\n",
    "# Keyword Argunment\n",
    "greet_with(location='Burari', name='Tushar')"
   ]
  },
  {
   "cell_type": "code",
   "execution_count": 8,
   "metadata": {},
   "outputs": [
    {
     "name": "stdout",
     "output_type": "stream",
     "text": [
      "You will need 4 cans of paint.\n"
     ]
    }
   ],
   "source": [
    "# Q-1 You are painting a wall. The instructions on the paint can says that 1 can of paint can cover 5 square metres of wall. \n",
    "# Given a random height and widht of wall, calculate how many cans of paint you will need to buy.\n",
    "import math\n",
    "def paint_calc(height, width, cover):\n",
    "    print(f'You will need {math.ceil((height*width)/cover)} cans of paint.')   \n",
    "    \n",
    "height = eval(input('Enter the height:'))\n",
    "width = eval(input('Enter the height:'))\n",
    "cover = 5\n",
    "paint_calc(height,width, cover)"
   ]
  },
  {
   "cell_type": "code",
   "execution_count": 26,
   "metadata": {},
   "outputs": [
    {
     "name": "stdout",
     "output_type": "stream",
     "text": [
      "99 is not a prime number\n"
     ]
    }
   ],
   "source": [
    "# Q-2 You need to write a function that checks whether if the number passed into it is a prime number or not.\n",
    "\n",
    "def prime_checker(n):\n",
    "    is_prime = True\n",
    "    for i in range(2, n//2+1):\n",
    "        if n % i == 0:\n",
    "            is_prime = False\n",
    "    if is_prime:\n",
    "        print(f\"{n} is a prime number\")\n",
    "    else:\n",
    "        print(f\"{n} is not a prime number\")    \n",
    "     \n",
    "n = int(input('Enter the number'))\n",
    "prime_checker(n)"
   ]
  },
  {
   "cell_type": "code",
   "execution_count": null,
   "metadata": {},
   "outputs": [],
   "source": []
  },
  {
   "cell_type": "code",
   "execution_count": null,
   "metadata": {},
   "outputs": [],
   "source": []
  }
 ],
 "metadata": {
  "kernelspec": {
   "display_name": "Python 3",
   "language": "python",
   "name": "python3"
  },
  "language_info": {
   "codemirror_mode": {
    "name": "ipython",
    "version": 3
   },
   "file_extension": ".py",
   "mimetype": "text/x-python",
   "name": "python",
   "nbconvert_exporter": "python",
   "pygments_lexer": "ipython3",
   "version": "3.11.4"
  },
  "orig_nbformat": 4
 },
 "nbformat": 4,
 "nbformat_minor": 2
}
