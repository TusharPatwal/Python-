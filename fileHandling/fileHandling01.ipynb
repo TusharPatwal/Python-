{
 "cells": [
  {
   "cell_type": "code",
   "execution_count": 16,
   "metadata": {},
   "outputs": [
    {
     "data": {
      "text/plain": [
       "<_io.TextIOWrapper name='text.txt' mode='w' encoding='cp1252'>"
      ]
     },
     "execution_count": 16,
     "metadata": {},
     "output_type": "execute_result"
    }
   ],
   "source": [
    "open(\"text.txt\", \"r\") # \"r\" - Read - Default value. Opens a file for reading, error if the file does not exist\n",
    "open(\"text.txt\", \"a\") # \"a\" - Append - Opens a file for appending, creates the file if it does not exist\n",
    "open(\"text.txt\", \"w\") # \"w\" - Write - Opens a file for writing, creates the file if it does not exist\n",
    "\n",
    "# \"x\" - Create - Creates the specified file, returns an error if the file exists"
   ]
  },
  {
   "cell_type": "code",
   "execution_count": 17,
   "metadata": {},
   "outputs": [
    {
     "name": "stdout",
     "output_type": "stream",
     "text": [
      "\n"
     ]
    }
   ],
   "source": [
    "f = open(\"text.txt\", \"r\")\n",
    "print(f.read()) # read() method for reading the content of the file"
   ]
  },
  {
   "cell_type": "code",
   "execution_count": 18,
   "metadata": {},
   "outputs": [
    {
     "name": "stdout",
     "output_type": "stream",
     "text": [
      "\n"
     ]
    }
   ],
   "source": [
    "f = open(\"text.txt\", 'r')\n",
    "print(f.read(10)) # 10 inside read specify how many characters you want to return "
   ]
  },
  {
   "cell_type": "code",
   "execution_count": 19,
   "metadata": {},
   "outputs": [
    {
     "name": "stdout",
     "output_type": "stream",
     "text": [
      "\n"
     ]
    }
   ],
   "source": [
    "f = open('text.txt', 'r')\n",
    "print(f.readline()) # You can return one line by using the readline() method"
   ]
  },
  {
   "cell_type": "code",
   "execution_count": 9,
   "metadata": {},
   "outputs": [
    {
     "name": "stdout",
     "output_type": "stream",
     "text": [
      "I am a boy. i am going to market\n",
      "\n",
      "\n",
      "\n"
     ]
    }
   ],
   "source": [
    "f = open('text.txt', 'r') # By calling readline() n times, you can read the first n lines\n",
    "print(f.readline())\n",
    "print(f.readline())\n",
    "print(f.readline())\n",
    "print(f.readline())"
   ]
  },
  {
   "cell_type": "code",
   "execution_count": 21,
   "metadata": {},
   "outputs": [],
   "source": [
    "f = open('text.txt','r')\n",
    "for i in f:\n",
    "    print(i)"
   ]
  },
  {
   "cell_type": "code",
   "execution_count": 22,
   "metadata": {},
   "outputs": [
    {
     "name": "stdout",
     "output_type": "stream",
     "text": [
      "\n"
     ]
    }
   ],
   "source": [
    "f = open('text.txt','r')\n",
    "print(f.readline())\n",
    "f.close() # It is a good practice to always close the file when you are done with it"
   ]
  },
  {
   "cell_type": "code",
   "execution_count": 23,
   "metadata": {},
   "outputs": [],
   "source": [
    "f = open(\"text.txt\", \"a\") # \"a\" - Append - will append to the end of the file\n",
    "f.write(\"Now the file has more content!\")\n",
    "f.close()"
   ]
  },
  {
   "cell_type": "code",
   "execution_count": 24,
   "metadata": {},
   "outputs": [],
   "source": [
    "# \"w\" - Write - will overwrite any existing content\n",
    "f = open(\"text.txt\", \"w\")\n",
    "f.write(\"I am a boy. i am going to market\")\n",
    "f.close()"
   ]
  },
  {
   "cell_type": "code",
   "execution_count": 25,
   "metadata": {},
   "outputs": [],
   "source": [
    "import os\n",
    "# os.remove(\"text.txt\")  --PermissionError: [WinError 32] The process cannot access the file because it is being used by another process: 'text.txt'"
   ]
  },
  {
   "cell_type": "code",
   "execution_count": 26,
   "metadata": {},
   "outputs": [],
   "source": [
    "# To create a new file in Python, use the open() method, with one of the following parameters:\n",
    "\n",
    "# \"x\" - Create - will create a file, returns an error if the file exist\n",
    "# f1 = open(\"myfile.txt\", \"x\")\n",
    "# \"a\" - Append - will create a file if the specified file does not exist\n",
    "# f2 = open(\"myfile.txt\", 'a')\n",
    "# \"w\" - Write - will create a file if the specified file does not exist\n",
    "# f3 = open(\"myfile.txt\", \"w\")\n"
   ]
  },
  {
   "cell_type": "code",
   "execution_count": 27,
   "metadata": {},
   "outputs": [],
   "source": [
    "import os\n",
    "# os.remove(\"myfile.txt\") --PermissionError: [WinError 32] The process cannot access the file because it is being used by another process: 'text.txt'"
   ]
  },
  {
   "cell_type": "code",
   "execution_count": 8,
   "metadata": {},
   "outputs": [
    {
     "name": "stdout",
     "output_type": "stream",
     "text": [
      "I am a boy. i am going to market\n"
     ]
    }
   ],
   "source": [
    "# a = int(input(\"Enter the number of line: \"))\n",
    "f = open('text.txt','r')\n",
    "print(f.readline())"
   ]
  }
 ],
 "metadata": {
  "kernelspec": {
   "display_name": ".env",
   "language": "python",
   "name": "python3"
  },
  "language_info": {
   "codemirror_mode": {
    "name": "ipython",
    "version": 3
   },
   "file_extension": ".py",
   "mimetype": "text/x-python",
   "name": "python",
   "nbconvert_exporter": "python",
   "pygments_lexer": "ipython3",
   "version": "3.10.1 (tags/v3.10.1:2cd268a, Dec  6 2021, 19:10:37) [MSC v.1929 64 bit (AMD64)]"
  },
  "orig_nbformat": 4,
  "vscode": {
   "interpreter": {
    "hash": "e52fa91775ac85fdef3a75bda9605eadc75b8548c517ae17680381fce1624e26"
   }
  }
 },
 "nbformat": 4,
 "nbformat_minor": 2
}
