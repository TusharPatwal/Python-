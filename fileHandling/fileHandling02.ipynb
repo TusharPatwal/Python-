{
 "cells": [
  {
   "cell_type": "code",
   "execution_count": null,
   "metadata": {},
   "outputs": [],
   "source": [
    "a=open(\"myfile.txt\",\"r\")\n",
    "print(a.read())"
   ]
  },
  {
   "cell_type": "code",
   "execution_count": null,
   "metadata": {},
   "outputs": [],
   "source": [
    "f=open(\"myfile.txt\",\"a\")\n",
    "f.write(\"myself tushar patwal\")"
   ]
  },
  {
   "cell_type": "code",
   "execution_count": null,
   "metadata": {},
   "outputs": [],
   "source": [
    "f=open(\"myfile.txt\",\"w\")\n",
    "f.write()"
   ]
  },
  {
   "cell_type": "code",
   "execution_count": 10,
   "metadata": {},
   "outputs": [
    {
     "name": "stdout",
     "output_type": "stream",
     "text": [
      "I am a boy. i am going to market\n",
      "\n",
      "\n",
      "\n",
      "i am going to party.\n",
      "\n",
      "\n",
      "\n",
      "its a nature call.\n",
      "\n",
      "\n",
      "\n",
      "hello, world!\n"
     ]
    }
   ],
   "source": [
    "with open('text.txt','r') as file:\n",
    "    a = file.readline()\n",
    "    while a != \"\":\n",
    "        print(a)\n",
    "        a = file.readline()"
   ]
  },
  {
   "cell_type": "code",
   "execution_count": 14,
   "metadata": {},
   "outputs": [],
   "source": [
    "with open(\"myfile.txt\", 'w') as file:\n",
    "    \n",
    "    for i in range(5):\n",
    "        a = input(\"Enter any name: \")\n",
    "        file.write(a + \"\\n\")"
   ]
  },
  {
   "cell_type": "code",
   "execution_count": 30,
   "metadata": {},
   "outputs": [],
   "source": [
    "with open(\"file.txt\", 'w') as file:\n",
    "    for i in range(10):\n",
    "        a = input(\"Enter the number: \")\n",
    "        file.write(a + '\\n')\n"
   ]
  },
  {
   "cell_type": "code",
   "execution_count": 31,
   "metadata": {},
   "outputs": [],
   "source": [
    "with open(\"file.txt\", 'r') as f:\n",
    "    f1 = open(\"even.txt\", 'w')\n",
    "    f2 = open(\"odd.txt\", 'w')\n",
    "    a = f.readline()\n",
    "    while a!=\"\":\n",
    "        if int(a)%2 == 0:\n",
    "            f1.write(a+\"\\n\")\n",
    "        else:\n",
    "            f2.write(a+\"\\n\")\n",
    "        a = f.readline()"
   ]
  }
 ],
 "metadata": {
  "kernelspec": {
   "display_name": "Python 3",
   "language": "python",
   "name": "python3"
  },
  "language_info": {
   "codemirror_mode": {
    "name": "ipython",
    "version": 3
   },
   "file_extension": ".py",
   "mimetype": "text/x-python",
   "name": "python",
   "nbconvert_exporter": "python",
   "pygments_lexer": "ipython3",
   "version": "3.10.1"
  },
  "orig_nbformat": 4,
  "vscode": {
   "interpreter": {
    "hash": "369f2c481f4da34e4445cda3fffd2e751bd1c4d706f27375911949ba6bb62e1c"
   }
  }
 },
 "nbformat": 4,
 "nbformat_minor": 2
}
